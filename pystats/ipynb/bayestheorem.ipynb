{
 "cells": [
  {
   "cell_type": "code",
   "execution_count": null,
   "metadata": {
    "collapsed": true,
    "deletable": true,
    "editable": true
   },
   "outputs": [],
   "source": [
    "#Bayes' Theorem \n",
    "# P(A|B) = P(A)P(B|A) / P(B)\n",
    "# the probability of A given B, is the probability of A times the  \n",
    "# probability of B given A over the probability of B\n",
    "# *** probability of something that depends on B depends very much \n",
    "# on the base probability of B and A. ***\n",
    "\n",
    "# EX. p(A|B) = 0.003*0.99 / 0.013 = 22.8%\n"
   ]
  }
 ],
 "metadata": {
  "kernelspec": {
   "display_name": "Python 3",
   "language": "python",
   "name": "python3"
  },
  "language_info": {
   "codemirror_mode": {
    "name": "ipython",
    "version": 3
   },
   "file_extension": ".py",
   "mimetype": "text/x-python",
   "name": "python",
   "nbconvert_exporter": "python",
   "pygments_lexer": "ipython3",
   "version": "3.5.2"
  }
 },
 "nbformat": 4,
 "nbformat_minor": 2
}
